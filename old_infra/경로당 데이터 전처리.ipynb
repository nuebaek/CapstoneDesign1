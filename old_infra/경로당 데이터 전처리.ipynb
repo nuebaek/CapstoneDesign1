{
 "cells": [
  {
   "cell_type": "code",
   "execution_count": 1,
   "id": "6ec9ad71",
   "metadata": {},
   "outputs": [],
   "source": [
    "import pandas as pd\n",
    "import seaborn as sns\n",
    "import matplotlib.pyplot as plt"
   ]
  },
  {
   "cell_type": "code",
   "execution_count": 2,
   "id": "04e64824",
   "metadata": {},
   "outputs": [],
   "source": [
    "import matplotlib.pyplot as plt\n",
    "plt.rc('axes', unicode_minus=False)\n",
    "plt.rc('font', family='Malgun Gothic')\n",
    "%matplotlib inline"
   ]
  },
  {
   "cell_type": "code",
   "execution_count": 3,
   "id": "089019c9",
   "metadata": {},
   "outputs": [],
   "source": [
    "from IPython.display import set_matplotlib_formats\n",
    "# 폰트가 선명하게 보이기 위해\n",
    "set_matplotlib_formats('retina')"
   ]
  },
  {
   "cell_type": "code",
   "execution_count": 4,
   "id": "9c383985",
   "metadata": {},
   "outputs": [],
   "source": [
    "df = pd.read_csv(\"./data/경로당.csv\", low_memory=False)"
   ]
  },
  {
   "cell_type": "code",
   "execution_count": 5,
   "id": "971e937f",
   "metadata": {},
   "outputs": [
    {
     "data": {
      "text/html": [
       "<div>\n",
       "<style scoped>\n",
       "    .dataframe tbody tr th:only-of-type {\n",
       "        vertical-align: middle;\n",
       "    }\n",
       "\n",
       "    .dataframe tbody tr th {\n",
       "        vertical-align: top;\n",
       "    }\n",
       "\n",
       "    .dataframe thead th {\n",
       "        text-align: right;\n",
       "    }\n",
       "</style>\n",
       "<table border=\"1\" class=\"dataframe\">\n",
       "  <thead>\n",
       "    <tr style=\"text-align: right;\">\n",
       "      <th></th>\n",
       "      <th>연번</th>\n",
       "      <th>행정동</th>\n",
       "      <th>경로당명</th>\n",
       "      <th>도로명주소</th>\n",
       "      <th>전화번호</th>\n",
       "      <th>면적(m2)</th>\n",
       "      <th>회원수</th>\n",
       "      <th>기준일자</th>\n",
       "    </tr>\n",
       "  </thead>\n",
       "  <tbody>\n",
       "    <tr>\n",
       "      <th>0</th>\n",
       "      <td>1</td>\n",
       "      <td>월계1동</td>\n",
       "      <td>월계1동경로당</td>\n",
       "      <td>석계로8가길 2(월계동)</td>\n",
       "      <td>917-2733</td>\n",
       "      <td>496.97</td>\n",
       "      <td>93</td>\n",
       "      <td>2021-09-13</td>\n",
       "    </tr>\n",
       "    <tr>\n",
       "      <th>1</th>\n",
       "      <td>2</td>\n",
       "      <td>월계1동</td>\n",
       "      <td>월성경로당</td>\n",
       "      <td>광운로13길 9 (월계동)</td>\n",
       "      <td>917-3776</td>\n",
       "      <td>128.00</td>\n",
       "      <td>36</td>\n",
       "      <td>2021-09-13</td>\n",
       "    </tr>\n",
       "    <tr>\n",
       "      <th>2</th>\n",
       "      <td>3</td>\n",
       "      <td>월계1동</td>\n",
       "      <td>벼루마을경로당</td>\n",
       "      <td>월계로44길 62(월계동)</td>\n",
       "      <td>943-8243</td>\n",
       "      <td>125.26</td>\n",
       "      <td>51</td>\n",
       "      <td>2021-09-13</td>\n",
       "    </tr>\n",
       "    <tr>\n",
       "      <th>3</th>\n",
       "      <td>4</td>\n",
       "      <td>월계1동</td>\n",
       "      <td>광운경로당</td>\n",
       "      <td>광운로19가길 53(월계동)</td>\n",
       "      <td>942-7009</td>\n",
       "      <td>56.00</td>\n",
       "      <td>34</td>\n",
       "      <td>2021-09-13</td>\n",
       "    </tr>\n",
       "    <tr>\n",
       "      <th>4</th>\n",
       "      <td>5</td>\n",
       "      <td>월계1동</td>\n",
       "      <td>선곡경로당</td>\n",
       "      <td>광운로2길 15-6(월계동)</td>\n",
       "      <td>912-8956</td>\n",
       "      <td>62.00</td>\n",
       "      <td>43</td>\n",
       "      <td>2021-09-13</td>\n",
       "    </tr>\n",
       "    <tr>\n",
       "      <th>...</th>\n",
       "      <td>...</td>\n",
       "      <td>...</td>\n",
       "      <td>...</td>\n",
       "      <td>...</td>\n",
       "      <td>...</td>\n",
       "      <td>...</td>\n",
       "      <td>...</td>\n",
       "      <td>...</td>\n",
       "    </tr>\n",
       "    <tr>\n",
       "      <th>241</th>\n",
       "      <td>242</td>\n",
       "      <td>상계10동</td>\n",
       "      <td>주공7단지경로당</td>\n",
       "      <td>동일로 1456(상계동, 상계주공7단지아파트)</td>\n",
       "      <td>939-5221</td>\n",
       "      <td>320.00</td>\n",
       "      <td>42</td>\n",
       "      <td>2021-09-13</td>\n",
       "    </tr>\n",
       "    <tr>\n",
       "      <th>242</th>\n",
       "      <td>243</td>\n",
       "      <td>상계10동</td>\n",
       "      <td>주공9단지경로당</td>\n",
       "      <td>노원로 532(상계동, 상계주공9단지아파트)</td>\n",
       "      <td>938-4179</td>\n",
       "      <td>316.00</td>\n",
       "      <td>50</td>\n",
       "      <td>2021-09-13</td>\n",
       "    </tr>\n",
       "    <tr>\n",
       "      <th>243</th>\n",
       "      <td>244</td>\n",
       "      <td>상계10동</td>\n",
       "      <td>대림아파트경로당</td>\n",
       "      <td>동일로221길 22(상계동, 대림아파트)</td>\n",
       "      <td>938-8316</td>\n",
       "      <td>69.89</td>\n",
       "      <td>24</td>\n",
       "      <td>2021-09-13</td>\n",
       "    </tr>\n",
       "    <tr>\n",
       "      <th>244</th>\n",
       "      <td>245</td>\n",
       "      <td>상계10동</td>\n",
       "      <td>임광아파트경로당</td>\n",
       "      <td>노원로 569(상계동, 임광아파트)</td>\n",
       "      <td>939-7591</td>\n",
       "      <td>71.00</td>\n",
       "      <td>24</td>\n",
       "      <td>2021-09-13</td>\n",
       "    </tr>\n",
       "    <tr>\n",
       "      <th>245</th>\n",
       "      <td>246</td>\n",
       "      <td>상계10동</td>\n",
       "      <td>포레나노원아파트경로당</td>\n",
       "      <td>노원로38길 76 시니어클럽하우스</td>\n",
       "      <td>02-3392-4938</td>\n",
       "      <td>393.37</td>\n",
       "      <td>31</td>\n",
       "      <td>2021-09-13</td>\n",
       "    </tr>\n",
       "  </tbody>\n",
       "</table>\n",
       "<p>246 rows × 8 columns</p>\n",
       "</div>"
      ],
      "text/plain": [
       "      연번    행정동         경로당명                      도로명주소          전화번호  면적(m2)  \\\n",
       "0      1   월계1동      월계1동경로당              석계로8가길 2(월계동)      917-2733  496.97   \n",
       "1      2   월계1동        월성경로당            광운로13길 9 (월계동)       917-3776  128.00   \n",
       "2      3   월계1동      벼루마을경로당             월계로44길 62(월계동)      943-8243  125.26   \n",
       "3      4   월계1동        광운경로당            광운로19가길 53(월계동)      942-7009   56.00   \n",
       "4      5   월계1동        선곡경로당            광운로2길 15-6(월계동)      912-8956   62.00   \n",
       "..   ...    ...          ...                        ...           ...     ...   \n",
       "241  242  상계10동     주공7단지경로당  동일로 1456(상계동, 상계주공7단지아파트)      939-5221  320.00   \n",
       "242  243  상계10동     주공9단지경로당   노원로 532(상계동, 상계주공9단지아파트)      938-4179  316.00   \n",
       "243  244  상계10동     대림아파트경로당     동일로221길 22(상계동, 대림아파트)      938-8316   69.89   \n",
       "244  245  상계10동     임광아파트경로당        노원로 569(상계동, 임광아파트)      939-7591   71.00   \n",
       "245  246  상계10동  포레나노원아파트경로당         노원로38길 76 시니어클럽하우스  02-3392-4938  393.37   \n",
       "\n",
       "     회원수        기준일자  \n",
       "0     93  2021-09-13  \n",
       "1     36  2021-09-13  \n",
       "2     51  2021-09-13  \n",
       "3     34  2021-09-13  \n",
       "4     43  2021-09-13  \n",
       "..   ...         ...  \n",
       "241   42  2021-09-13  \n",
       "242   50  2021-09-13  \n",
       "243   24  2021-09-13  \n",
       "244   24  2021-09-13  \n",
       "245   31  2021-09-13  \n",
       "\n",
       "[246 rows x 8 columns]"
      ]
     },
     "execution_count": 5,
     "metadata": {},
     "output_type": "execute_result"
    }
   ],
   "source": [
    "df"
   ]
  },
  {
   "cell_type": "code",
   "execution_count": 6,
   "id": "c5709752",
   "metadata": {},
   "outputs": [
    {
     "data": {
      "text/plain": [
       "상계1동      27\n",
       "공릉2동      24\n",
       "공릉1동      19\n",
       "월계2동      18\n",
       "월계1동      17\n",
       "중계본동      17\n",
       "상계3·4동    15\n",
       "중계4동      14\n",
       "상계2동      13\n",
       "월계3동      12\n",
       "하계1동      11\n",
       "상계5동      11\n",
       "상계6·7동    10\n",
       "중계2·3동    10\n",
       "중계1동       9\n",
       "하계2동       7\n",
       "상계10동      5\n",
       "상계9동       4\n",
       "상계8동       3\n",
       "Name: 행정동, dtype: int64"
      ]
     },
     "execution_count": 6,
     "metadata": {},
     "output_type": "execute_result"
    }
   ],
   "source": [
    "df[\"행정동\"].value_counts()"
   ]
  },
  {
   "cell_type": "code",
   "execution_count": 7,
   "id": "672a5845",
   "metadata": {},
   "outputs": [],
   "source": [
    "df.to_csv(\"senior.csv\")"
   ]
  },
  {
   "cell_type": "code",
   "execution_count": 8,
   "id": "057d99cc",
   "metadata": {},
   "outputs": [
    {
     "data": {
      "text/plain": [
       "<AxesSubplot:xlabel='count', ylabel='행정동'>"
      ]
     },
     "execution_count": 8,
     "metadata": {},
     "output_type": "execute_result"
    },
    {
     "data": {
      "image/png": "[encoded data removed]",
      "text/plain": [
       "<Figure size 432x288 with 1 Axes>"
      ]
     },
     "metadata": {
      "image/png": {
       "height": 263,
       "width": 413
      },
      "needs_background": "light"
     },
     "output_type": "display_data"
    }
   ],
   "source": [
    "sns.countplot(data=df, y='행정동')"
   ]
  },
  {
   "cell_type": "code",
   "execution_count": 9,
   "id": "01bba477",
   "metadata": {},
   "outputs": [],
   "source": [
    "df_senior = df.drop(['연번', '경로당명','도로명주소','전화번호','면적(m2)','회원수','기준일자'], axis=1)"
   ]
  },
  {
   "cell_type": "code",
   "execution_count": 10,
   "id": "295166be",
   "metadata": {},
   "outputs": [],
   "source": [
    "df_senior_ana = df_senior[\"행정동\"].value_counts()"
   ]
  },
  {
   "cell_type": "code",
   "execution_count": 11,
   "id": "337ae3e3",
   "metadata": {},
   "outputs": [
    {
     "data": {
      "text/plain": [
       "상계1동    27\n",
       "공릉2동    24\n",
       "공릉1동    19\n",
       "월계2동    18\n",
       "월계1동    17\n",
       "Name: 행정동, dtype: int64"
      ]
     },
     "execution_count": 11,
     "metadata": {},
     "output_type": "execute_result"
    }
   ],
   "source": [
    "df_senior_ana.head()"
   ]
  },
  {
   "cell_type": "code",
   "execution_count": 12,
   "id": "f7bb4af9",
   "metadata": {},
   "outputs": [],
   "source": [
    "# df_senior_ana[column]"
   ]
  },
  {
   "cell_type": "code",
   "execution_count": 20,
   "id": "8f0da13c",
   "metadata": {},
   "outputs": [],
   "source": [
    "# df_senior_ana = reindex( columns = [ '행정동')"
   ]
  },
  {
   "cell_type": "code",
   "execution_count": 17,
   "id": "6f7fe3e0",
   "metadata": {},
   "outputs": [],
   "source": [
    "# df_senior_ana.to_csv(\"senior_ana.csv\")"
   ]
  },
  {
   "cell_type": "code",
   "execution_count": 22,
   "id": "e1c3f34e",
   "metadata": {},
   "outputs": [
    {
     "data": {
      "text/html": [
       "<div>\n",
       "<style scoped>\n",
       "    .dataframe tbody tr th:only-of-type {\n",
       "        vertical-align: middle;\n",
       "    }\n",
       "\n",
       "    .dataframe tbody tr th {\n",
       "        vertical-align: top;\n",
       "    }\n",
       "\n",
       "    .dataframe thead th {\n",
       "        text-align: right;\n",
       "    }\n",
       "</style>\n",
       "<table border=\"1\" class=\"dataframe\">\n",
       "  <thead>\n",
       "    <tr style=\"text-align: right;\">\n",
       "      <th></th>\n",
       "      <th>경로당</th>\n",
       "    </tr>\n",
       "    <tr>\n",
       "      <th>행정동</th>\n",
       "      <th></th>\n",
       "    </tr>\n",
       "  </thead>\n",
       "  <tbody>\n",
       "    <tr>\n",
       "      <th>상계1동</th>\n",
       "      <td>27</td>\n",
       "    </tr>\n",
       "    <tr>\n",
       "      <th>공릉2동</th>\n",
       "      <td>24</td>\n",
       "    </tr>\n",
       "    <tr>\n",
       "      <th>공릉1동</th>\n",
       "      <td>19</td>\n",
       "    </tr>\n",
       "    <tr>\n",
       "      <th>월계2동</th>\n",
       "      <td>18</td>\n",
       "    </tr>\n",
       "    <tr>\n",
       "      <th>월계1동</th>\n",
       "      <td>17</td>\n",
       "    </tr>\n",
       "    <tr>\n",
       "      <th>중계본동</th>\n",
       "      <td>17</td>\n",
       "    </tr>\n",
       "    <tr>\n",
       "      <th>상계3·4동</th>\n",
       "      <td>15</td>\n",
       "    </tr>\n",
       "    <tr>\n",
       "      <th>중계4동</th>\n",
       "      <td>14</td>\n",
       "    </tr>\n",
       "    <tr>\n",
       "      <th>상계2동</th>\n",
       "      <td>13</td>\n",
       "    </tr>\n",
       "    <tr>\n",
       "      <th>월계3동</th>\n",
       "      <td>12</td>\n",
       "    </tr>\n",
       "    <tr>\n",
       "      <th>하계1동</th>\n",
       "      <td>11</td>\n",
       "    </tr>\n",
       "    <tr>\n",
       "      <th>상계5동</th>\n",
       "      <td>11</td>\n",
       "    </tr>\n",
       "    <tr>\n",
       "      <th>상계6·7동</th>\n",
       "      <td>10</td>\n",
       "    </tr>\n",
       "    <tr>\n",
       "      <th>중계2·3동</th>\n",
       "      <td>10</td>\n",
       "    </tr>\n",
       "    <tr>\n",
       "      <th>중계1동</th>\n",
       "      <td>9</td>\n",
       "    </tr>\n",
       "    <tr>\n",
       "      <th>하계2동</th>\n",
       "      <td>7</td>\n",
       "    </tr>\n",
       "    <tr>\n",
       "      <th>상계10동</th>\n",
       "      <td>5</td>\n",
       "    </tr>\n",
       "    <tr>\n",
       "      <th>상계9동</th>\n",
       "      <td>4</td>\n",
       "    </tr>\n",
       "    <tr>\n",
       "      <th>상계8동</th>\n",
       "      <td>3</td>\n",
       "    </tr>\n",
       "  </tbody>\n",
       "</table>\n",
       "</div>"
      ],
      "text/plain": [
       "        경로당\n",
       "행정동        \n",
       "상계1동     27\n",
       "공릉2동     24\n",
       "공릉1동     19\n",
       "월계2동     18\n",
       "월계1동     17\n",
       "중계본동     17\n",
       "상계3·4동   15\n",
       "중계4동     14\n",
       "상계2동     13\n",
       "월계3동     12\n",
       "하계1동     11\n",
       "상계5동     11\n",
       "상계6·7동   10\n",
       "중계2·3동   10\n",
       "중계1동      9\n",
       "하계2동      7\n",
       "상계10동     5\n",
       "상계9동      4\n",
       "상계8동      3"
      ]
     },
     "execution_count": 22,
     "metadata": {},
     "output_type": "execute_result"
    }
   ],
   "source": [
    "df = pd.read_csv(\"senior_ana.csv\", low_memory=False)\n",
    "df.set_index(\"행정동\", inplace=True)\n",
    "df"
   ]
  },
  {
   "cell_type": "code",
   "execution_count": 23,
   "id": "6abf4044",
   "metadata": {},
   "outputs": [
    {
     "data": {
      "text/plain": [
       "<AxesSubplot:ylabel='행정동'>"
      ]
     },
     "execution_count": 23,
     "metadata": {},
     "output_type": "execute_result"
    },
    {
     "data": {
      "image/png": "[encoded data removed]",
      "text/plain": [
       "<Figure size 432x288 with 1 Axes>"
      ]
     },
     "metadata": {
      "image/png": {
       "height": 249,
       "width": 413
      },
      "needs_background": "light"
     },
     "output_type": "display_data"
    }
   ],
   "source": [
    "df.plot.barh()"
   ]
  },
  {
   "cell_type": "code",
   "execution_count": null,
   "id": "05239551",
   "metadata": {},
   "outputs": [],
   "source": []
  }
 ],
 "metadata": {
  "kernelspec": {
   "display_name": "Python 3",
   "language": "python",
   "name": "python3"
  },
  "language_info": {
   "codemirror_mode": {
    "name": "ipython",
    "version": 3
   },
   "file_extension": ".py",
   "mimetype": "text/x-python",
   "name": "python",
   "nbconvert_exporter": "python",
   "pygments_lexer": "ipython3",
   "version": "3.8.8"
  }
 },
 "nbformat": 4,
 "nbformat_minor": 5
}
